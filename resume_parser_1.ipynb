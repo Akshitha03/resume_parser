{
  "metadata": {
    "kernelspec": {
      "language": "python",
      "display_name": "Python 3",
      "name": "python3"
    },
    "language_info": {
      "name": "python",
      "version": "3.7.12",
      "mimetype": "text/x-python",
      "codemirror_mode": {
        "name": "ipython",
        "version": 3
      },
      "pygments_lexer": "ipython3",
      "nbconvert_exporter": "python",
      "file_extension": ".py"
    },
    "colab": {
      "provenance": []
    }
  },
  "nbformat_minor": 0,
  "nbformat": 4,
  "cells": [
    {
      "cell_type": "code",
      "source": [
        "!pip install tika"
      ],
      "metadata": {
        "execution": {
          "iopub.status.busy": "2022-01-08T15:28:43.866386Z",
          "iopub.execute_input": "2022-01-08T15:28:43.867787Z",
          "iopub.status.idle": "2022-01-08T15:28:52.719225Z",
          "shell.execute_reply.started": "2022-01-08T15:28:43.867554Z",
          "shell.execute_reply": "2022-01-08T15:28:52.717825Z"
        },
        "trusted": true,
        "id": "GFohmvNca4HY",
        "outputId": "a4e6db7e-6888-4843-edba-89a207f5996c"
      },
      "execution_count": null,
      "outputs": [
        {
          "name": "stdout",
          "text": "Requirement already satisfied: tika in /opt/conda/lib/python3.7/site-packages (1.24)\nRequirement already satisfied: requests in /opt/conda/lib/python3.7/site-packages (from tika) (2.25.1)\nRequirement already satisfied: setuptools in /opt/conda/lib/python3.7/site-packages (from tika) (59.1.1)\nRequirement already satisfied: certifi>=2017.4.17 in /opt/conda/lib/python3.7/site-packages (from requests->tika) (2021.10.8)\nRequirement already satisfied: idna<3,>=2.5 in /opt/conda/lib/python3.7/site-packages (from requests->tika) (2.10)\nRequirement already satisfied: urllib3<1.27,>=1.21.1 in /opt/conda/lib/python3.7/site-packages (from requests->tika) (1.26.7)\nRequirement already satisfied: chardet<5,>=3.0.2 in /opt/conda/lib/python3.7/site-packages (from requests->tika) (4.0.0)\n\u001b[33mWARNING: Running pip as the 'root' user can result in broken permissions and conflicting behaviour with the system package manager. It is recommended to use a virtual environment instead: https://pip.pypa.io/warnings/venv\u001b[0m\n",
          "output_type": "stream"
        }
      ]
    },
    {
      "cell_type": "code",
      "source": [
        "from tika import parser\n",
        "file = r'../input/resume-pdf/candidate_042.pdf'\n",
        "file_data = parser.from_file(file)\n",
        "text = file_data['content']\n",
        "print(text)"
      ],
      "metadata": {
        "execution": {
          "iopub.status.busy": "2022-01-08T15:28:52.722507Z",
          "iopub.execute_input": "2022-01-08T15:28:52.723556Z",
          "iopub.status.idle": "2022-01-08T15:28:52.817693Z",
          "shell.execute_reply.started": "2022-01-08T15:28:52.723487Z",
          "shell.execute_reply": "2022-01-08T15:28:52.816641Z"
        },
        "trusted": true,
        "id": "0H71kz_-a4HZ",
        "outputId": "fdef448e-b2b6-4162-f8b7-e88f8ff28f4f"
      },
      "execution_count": null,
      "outputs": [
        {
          "name": "stdout",
          "text": "\n\n\n\n\n\n\n\n\n\n\n\n\n\n\n\n\n\n\n\n\n\n\n\n\n\n\n\n\n\n\n\n\n\n\n\n\n\n\n\n\n\n\n\n\n\n\n\n\ncandidate_042\n\n\nRyan Nelson\nF R E S H E R  S O F T W A R E  D E V E L O P E R  \n\nExecutive Profile\n\nI consider myself a team player and ethics\nmaintainer. When it comes to coding I\nalways try to be be well informed about\nthe technology and its application. Would\nlike to join any firm as a software\ndeveloper in machine learning projects.\n\nOther Activities\n\nMachine learning - Stanford University\nSAP Fundamentals - Arjuvo Limited\n\nProjects\n\nClassification of Cassava Leaves\n\nSkills\n\nMachine Learning, Software Engineering,\nPython, Java, SAP,C programming\n\nWork Experience\n\nAccenture  \nSoftware Developer, Apr 2019 - Dec 2020 \n\nWorked on multiple projects that dealt with system frame\ndevelopment and solution supply.\n\nEducation\n\nB.Tech Computer Science From JNTU, 2019\n\n\n\n",
          "output_type": "stream"
        }
      ]
    },
    {
      "cell_type": "code",
      "source": [
        "parsed_content = {}"
      ],
      "metadata": {
        "execution": {
          "iopub.status.busy": "2022-01-08T15:28:52.819043Z",
          "iopub.execute_input": "2022-01-08T15:28:52.820525Z",
          "iopub.status.idle": "2022-01-08T15:28:52.826295Z",
          "shell.execute_reply.started": "2022-01-08T15:28:52.820451Z",
          "shell.execute_reply": "2022-01-08T15:28:52.825109Z"
        },
        "trusted": true,
        "id": "nSr4Ao0qa4HZ"
      },
      "execution_count": null,
      "outputs": []
    },
    {
      "cell_type": "code",
      "source": [
        "#E-MAIL\n",
        "import re\n",
        "def get_email_addresses(string):\n",
        "    r = re.compile(r'[\\w\\.-]+@[\\w\\.-]+')\n",
        "    return r.findall(string)\n",
        "\n",
        "email = get_email_addresses(text)\n",
        "print(email)\n",
        "parsed_content['E-mail'] = email"
      ],
      "metadata": {
        "execution": {
          "iopub.status.busy": "2022-01-08T15:28:52.830053Z",
          "iopub.execute_input": "2022-01-08T15:28:52.831164Z",
          "iopub.status.idle": "2022-01-08T15:28:52.844101Z",
          "shell.execute_reply.started": "2022-01-08T15:28:52.831105Z",
          "shell.execute_reply": "2022-01-08T15:28:52.843057Z"
        },
        "trusted": true,
        "id": "gFmUrKKPa4HZ",
        "outputId": "5c4ba783-0c37-4506-b6d8-6b4068e5f133"
      },
      "execution_count": null,
      "outputs": [
        {
          "name": "stdout",
          "text": "[]\n",
          "output_type": "stream"
        }
      ]
    },
    {
      "cell_type": "code",
      "source": [
        "#PHONE NUMBER\n",
        "import re\n",
        "def get_phone_numbers(string):\n",
        "    r = re.compile(r'(\\d{3}[-\\.\\s]??\\d{3}[-\\.\\s]??\\d{4}|\\(\\d{3}\\)\\s*\\d{3}[-\\.\\s]??\\d{4}|\\d{3}[-\\.\\s]??\\d{4})')\n",
        "    phone_numbers = r.findall(string)\n",
        "    return [re.sub(r'\\D', '', num) for num in phone_numbers]\n",
        "\n",
        "phone_number= get_phone_numbers(text)\n",
        "if len(phone_number) <= 10:\n",
        "    print(phone_number)\n",
        "    parsed_content['Phone number'] = phone_number"
      ],
      "metadata": {
        "execution": {
          "iopub.status.busy": "2022-01-08T15:28:52.847300Z",
          "iopub.execute_input": "2022-01-08T15:28:52.848212Z",
          "iopub.status.idle": "2022-01-08T15:28:52.861423Z",
          "shell.execute_reply.started": "2022-01-08T15:28:52.848156Z",
          "shell.execute_reply": "2022-01-08T15:28:52.860431Z"
        },
        "trusted": true,
        "id": "M-XwPH7Ea4Ha",
        "outputId": "e284b678-ff1a-4cec-dbd2-ea0a8837e122"
      },
      "execution_count": null,
      "outputs": [
        {
          "name": "stdout",
          "text": "[]\n",
          "output_type": "stream"
        }
      ]
    },
    {
      "cell_type": "code",
      "source": [
        "import spacy\n",
        "nlp = spacy.load('en_core_web_sm')\n",
        "from spacy.matcher import Matcher\n",
        "matcher = Matcher(nlp.vocab)\n",
        "\n",
        "def extract_name(text):\n",
        "   nlp_text = nlp(text)\n",
        "\n",
        "   # First name and Last name are always Proper Nouns\n",
        "   pattern = [{'POS': 'PROPN'}, {'POS': 'PROPN'}]\n",
        "\n",
        "   matcher.add('NAME', [pattern], on_match = None)\n",
        "\n",
        "   matches = matcher(nlp_text)\n",
        "\n",
        "   for match_id, start, end in matches:\n",
        "       span = nlp_text[start:end]\n",
        "       return span.text\n",
        "\n",
        "name = extract_name(text)\n",
        "print(name)\n",
        "parsed_content['Name'] =  name"
      ],
      "metadata": {
        "execution": {
          "iopub.status.busy": "2022-01-08T15:28:52.864292Z",
          "iopub.execute_input": "2022-01-08T15:28:52.865088Z",
          "iopub.status.idle": "2022-01-08T15:28:58.692795Z",
          "shell.execute_reply.started": "2022-01-08T15:28:52.864973Z",
          "shell.execute_reply": "2022-01-08T15:28:58.691793Z"
        },
        "trusted": true,
        "id": "_leVCYcQa4Ha",
        "outputId": "9366ffb7-90b9-4563-845f-c96af3121c72"
      },
      "execution_count": null,
      "outputs": [
        {
          "name": "stdout",
          "text": "Ryan Nelson\n",
          "output_type": "stream"
        }
      ]
    },
    {
      "cell_type": "code",
      "source": [
        "Keywords = [\"education\",\n",
        "            \"summary\",\n",
        "            \"accomplishments\",\n",
        "            \"executive profile\",\n",
        "            \"professional profile\",\n",
        "            \"personal profile\",\n",
        "            \"work background\",\n",
        "            \"academic profile\",\n",
        "            \"other activities\",\n",
        "            \"qualifications\",\n",
        "            \"experience\",\n",
        "            \"interests\",\n",
        "            \"skills\",\n",
        "            \"achievements\",\n",
        "            \"publications\",\n",
        "            \"publication\",\n",
        "            \"certifications\",\n",
        "            \"workshops\",\n",
        "            \"projects\",\n",
        "            \"internships\",\n",
        "            \"trainings\",\n",
        "            \"hobbies\",\n",
        "            \"overview\",\n",
        "            \"objective\",\n",
        "            \"position of responsibility\",\n",
        "            \"jobs\"\n",
        "           ]"
      ],
      "metadata": {
        "execution": {
          "iopub.status.busy": "2022-01-08T15:28:58.694557Z",
          "iopub.execute_input": "2022-01-08T15:28:58.695642Z",
          "iopub.status.idle": "2022-01-08T15:28:58.700786Z",
          "shell.execute_reply.started": "2022-01-08T15:28:58.695572Z",
          "shell.execute_reply": "2022-01-08T15:28:58.700202Z"
        },
        "trusted": true,
        "id": "C1IN1E7ca4Ha"
      },
      "execution_count": null,
      "outputs": []
    },
    {
      "cell_type": "code",
      "source": [
        "text = text.replace(\"\\n\",\" \")\n",
        "text = text.replace(\"[^a-zA-Z0-9]\", \" \");\n",
        "re.sub('\\W+','', text)\n",
        "text = text.lower()\n",
        "print(text)"
      ],
      "metadata": {
        "execution": {
          "iopub.status.busy": "2022-01-08T15:28:58.702058Z",
          "iopub.execute_input": "2022-01-08T15:28:58.703027Z",
          "iopub.status.idle": "2022-01-08T15:28:58.725847Z",
          "shell.execute_reply.started": "2022-01-08T15:28:58.702991Z",
          "shell.execute_reply": "2022-01-08T15:28:58.724919Z"
        },
        "trusted": true,
        "id": "BMYb_wLTa4Hb",
        "outputId": "49ef84a7-9a31-43be-8237-cbb8131748ec"
      },
      "execution_count": null,
      "outputs": [
        {
          "name": "stdout",
          "text": "                                                 candidate_042   ryan nelson f r e s h e r  s o f t w a r e  d e v e l o p e r    executive profile  i consider myself a team player and ethics maintainer. when it comes to coding i always try to be be well informed about the technology and its application. would like to join any firm as a software developer in machine learning projects.  other activities  machine learning - stanford university sap fundamentals - arjuvo limited  projects  classification of cassava leaves  skills  machine learning, software engineering, python, java, sap,c programming  work experience  accenture   software developer, apr 2019 - dec 2020   worked on multiple projects that dealt with system frame development and solution supply.  education  b.tech computer science from jntu, 2019   \n",
          "output_type": "stream"
        }
      ]
    },
    {
      "cell_type": "code",
      "source": [
        "content = {}\n",
        "indices = []\n",
        "keys = []\n",
        "for key in Keywords:\n",
        "    try:\n",
        "        content[key] = text[text.index(key) + len(key):]\n",
        "        indices.append(text.index(key))\n",
        "        keys.append(key)\n",
        "    except:\n",
        "        pass\n",
        ""
      ],
      "metadata": {
        "execution": {
          "iopub.status.busy": "2022-01-08T15:28:58.727395Z",
          "iopub.execute_input": "2022-01-08T15:28:58.728319Z",
          "iopub.status.idle": "2022-01-08T15:28:58.739898Z",
          "shell.execute_reply.started": "2022-01-08T15:28:58.728266Z",
          "shell.execute_reply": "2022-01-08T15:28:58.738820Z"
        },
        "trusted": true,
        "id": "IYTzHq5aa4Hb"
      },
      "execution_count": null,
      "outputs": []
    },
    {
      "cell_type": "code",
      "source": [
        "#Sorting the indices\n",
        "zipped_lists = zip(indices, keys)\n",
        "sorted_pairs = sorted(zipped_lists)\n",
        "sorted_pairs\n",
        "\n",
        "tuples = zip(*sorted_pairs)\n",
        "indices, keys = [ list(tuple) for tuple in  tuples]\n",
        "keys"
      ],
      "metadata": {
        "execution": {
          "iopub.status.busy": "2022-01-08T15:28:58.742700Z",
          "iopub.execute_input": "2022-01-08T15:28:58.742989Z",
          "iopub.status.idle": "2022-01-08T15:28:58.756719Z",
          "shell.execute_reply.started": "2022-01-08T15:28:58.742954Z",
          "shell.execute_reply": "2022-01-08T15:28:58.755546Z"
        },
        "trusted": true,
        "id": "xEFy-rC5a4Hb",
        "outputId": "f0253cdd-a59a-4bfb-da80-4e40ba77bc75"
      },
      "execution_count": null,
      "outputs": [
        {
          "execution_count": 10,
          "output_type": "execute_result",
          "data": {
            "text/plain": "['executive profile',\n 'projects',\n 'other activities',\n 'skills',\n 'experience',\n 'education']"
          },
          "metadata": {}
        }
      ]
    },
    {
      "cell_type": "code",
      "source": [
        "#Keeping the required content and removing the redundant part\n",
        "content = []\n",
        "for idx in range(len(indices)):\n",
        "    if idx != len(indices)-1:\n",
        "        content.append(text[indices[idx]: indices[idx+1]])\n",
        "    else:\n",
        "        content.append(text[indices[idx]: ])"
      ],
      "metadata": {
        "execution": {
          "iopub.status.busy": "2022-01-08T15:28:58.758575Z",
          "iopub.execute_input": "2022-01-08T15:28:58.758818Z",
          "iopub.status.idle": "2022-01-08T15:28:58.768702Z",
          "shell.execute_reply.started": "2022-01-08T15:28:58.758788Z",
          "shell.execute_reply": "2022-01-08T15:28:58.767839Z"
        },
        "trusted": true,
        "id": "BTL5tAAwa4Hb"
      },
      "execution_count": null,
      "outputs": []
    },
    {
      "cell_type": "code",
      "source": [
        "for i in range(len(indices)):\n",
        "    parsed_content[keys[i]] = content[i]"
      ],
      "metadata": {
        "execution": {
          "iopub.status.busy": "2022-01-08T15:28:58.769826Z",
          "iopub.execute_input": "2022-01-08T15:28:58.770671Z",
          "iopub.status.idle": "2022-01-08T15:28:58.781014Z",
          "shell.execute_reply.started": "2022-01-08T15:28:58.770635Z",
          "shell.execute_reply": "2022-01-08T15:28:58.780318Z"
        },
        "trusted": true,
        "id": "mgZy3y_ra4Hb"
      },
      "execution_count": null,
      "outputs": []
    },
    {
      "cell_type": "code",
      "source": [
        "#Displaying the parsed content\n",
        "parsed_content"
      ],
      "metadata": {
        "execution": {
          "iopub.status.busy": "2022-01-08T15:28:58.782237Z",
          "iopub.execute_input": "2022-01-08T15:28:58.782909Z",
          "iopub.status.idle": "2022-01-08T15:28:58.796319Z",
          "shell.execute_reply.started": "2022-01-08T15:28:58.782877Z",
          "shell.execute_reply": "2022-01-08T15:28:58.795038Z"
        },
        "trusted": true,
        "id": "EKu1jUoFa4Hc",
        "outputId": "a21addbd-fff4-43ce-d367-ed114f294a50"
      },
      "execution_count": null,
      "outputs": [
        {
          "execution_count": 13,
          "output_type": "execute_result",
          "data": {
            "text/plain": "{'E-mail': [],\n 'Phone number': [],\n 'Name': 'Ryan Nelson',\n 'executive profile': 'executive profile  i consider myself a team player and ethics maintainer. when it comes to coding i always try to be be well informed about the technology and its application. would like to join any firm as a software developer in machine learning ',\n 'projects': 'projects.  ',\n 'other activities': 'other activities  machine learning - stanford university sap fundamentals - arjuvo limited  projects  classification of cassava leaves  ',\n 'skills': 'skills  machine learning, software engineering, python, java, sap,c programming  work ',\n 'experience': 'experience  accenture   software developer, apr 2019 - dec 2020   worked on multiple projects that dealt with system frame development and solution supply.  ',\n 'education': 'education  b.tech computer science from jntu, 2019   '}"
          },
          "metadata": {}
        }
      ]
    },
    {
      "cell_type": "code",
      "source": [
        "import json\n",
        "with open(\"Parsed_Resume.json\", \"w\") as outfile:\n",
        "    json.dump(parsed_content, outfile)"
      ],
      "metadata": {
        "execution": {
          "iopub.status.busy": "2022-01-08T15:28:58.797926Z",
          "iopub.execute_input": "2022-01-08T15:28:58.798404Z",
          "iopub.status.idle": "2022-01-08T15:28:58.807320Z",
          "shell.execute_reply.started": "2022-01-08T15:28:58.798336Z",
          "shell.execute_reply": "2022-01-08T15:28:58.806283Z"
        },
        "trusted": true,
        "id": "bSxAx4NNa4Hc"
      },
      "execution_count": null,
      "outputs": []
    },
    {
      "cell_type": "code",
      "source": [
        "a_file = open(\"Parsed_Resume.json\", \"r\")\n",
        "a_json = json.load(a_file)\n",
        "pretty_json = json.dumps(a_json, indent=4)\n",
        "a_file.close()\n",
        "print(pretty_json)"
      ],
      "metadata": {
        "execution": {
          "iopub.status.busy": "2022-01-08T15:28:58.808469Z",
          "iopub.execute_input": "2022-01-08T15:28:58.808922Z",
          "iopub.status.idle": "2022-01-08T15:28:58.820937Z",
          "shell.execute_reply.started": "2022-01-08T15:28:58.808885Z",
          "shell.execute_reply": "2022-01-08T15:28:58.819814Z"
        },
        "trusted": true,
        "id": "KMwxqlbCa4Hc",
        "outputId": "8a9bd210-92e2-4a56-b826-47800704fb3c"
      },
      "execution_count": null,
      "outputs": [
        {
          "name": "stdout",
          "text": "{\n    \"E-mail\": [],\n    \"Phone number\": [],\n    \"Name\": \"Ryan Nelson\",\n    \"executive profile\": \"executive profile  i consider myself a team player and ethics maintainer. when it comes to coding i always try to be be well informed about the technology and its application. would like to join any firm as a software developer in machine learning \",\n    \"projects\": \"projects.  \",\n    \"other activities\": \"other activities  machine learning - stanford university sap fundamentals - arjuvo limited  projects  classification of cassava leaves  \",\n    \"skills\": \"skills  machine learning, software engineering, python, java, sap,c programming  work \",\n    \"experience\": \"experience  accenture   software developer, apr 2019 - dec 2020   worked on multiple projects that dealt with system frame development and solution supply.  \",\n    \"education\": \"education  b.tech computer science from jntu, 2019   \"\n}\n",
          "output_type": "stream"
        }
      ]
    }
  ]
}